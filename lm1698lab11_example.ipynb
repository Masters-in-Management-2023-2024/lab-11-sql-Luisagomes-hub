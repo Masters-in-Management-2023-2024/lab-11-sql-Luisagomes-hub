{
  "cells": [
    {
      "cell_type": "markdown",
      "metadata": {
        "id": "HR3MIH6Nl092"
      },
      "source": [
        "# Lab Exercise: SQL Analysis with Polars\n",
        "\n",
        "In this lab, you'll practice SQL queries using Polars' built-in SQL functionality. Complete each exercise by writing the appropriate SQL query."
      ]
    },
    {
      "cell_type": "code",
      "execution_count": 3,
      "metadata": {
        "colab": {
          "base_uri": "https://localhost:8080/"
        },
        "id": "F6JwgPynl093",
        "outputId": "0def0ad0-bb4e-4f90-949a-708c5c1f1776"
      },
      "outputs": [
        {
          "output_type": "stream",
          "name": "stdout",
          "text": [
            "Setup complete! Tables available:\n",
            "shape: (5, 1)\n",
            "┌──────────┐\n",
            "│ name     │\n",
            "│ ---      │\n",
            "│ str      │\n",
            "╞══════════╡\n",
            "│ airlines │\n",
            "│ airports │\n",
            "│ flights  │\n",
            "│ planes   │\n",
            "│ weather  │\n",
            "└──────────┘\n"
          ]
        },
        {
          "output_type": "stream",
          "name": "stderr",
          "text": [
            "/tmp/ipython-input-200453716.py:17: DeprecationWarning: The argument `eager_execution` for `SQLContext.__init__` is deprecated. It has been renamed to `eager`.\n",
            "  ctx = pl.SQLContext(\n"
          ]
        }
      ],
      "source": [
        "# Setup - Run this cell first\n",
        "import polars as pl\n",
        "\n",
        "READ_KW = dict(null_values=[\"NA\", \"\"], infer_schema_length=10000)\n",
        "\n",
        "airlines = pl.read_csv(\"https://raw.githubusercontent.com/philhetzel/opan5510-class11/refs/heads/main/data/nyc_airlines.csv\", **READ_KW)\n",
        "airports = pl.read_csv(\"https://raw.githubusercontent.com/philhetzel/opan5510-class11/refs/heads/main/data/nyc_airports.csv\", **READ_KW)\n",
        "flights  = pl.read_csv(\"https://raw.githubusercontent.com/philhetzel/opan5510-class11/refs/heads/main/data/nyc_flights.csv\", **READ_KW)\n",
        "planes   = pl.read_csv(\"https://raw.githubusercontent.com/philhetzel/opan5510-class11/refs/heads/main/data/nyc_planes.csv\", **READ_KW)\n",
        "weather  = pl.read_csv(\"https://raw.githubusercontent.com/philhetzel/opan5510-class11/refs/heads/main/data/nyc_weather.csv\", **READ_KW)\n",
        "\n",
        "# Parse time_hour como Datetime (tolerante)\n",
        "flights = flights.with_columns(pl.col(\"time_hour\").str.strptime(pl.Datetime, strict=False))\n",
        "weather = weather.with_columns(pl.col(\"time_hour\").str.strptime(pl.Datetime, strict=False))\n",
        "\n",
        "# Criar SQL context\n",
        "ctx = pl.SQLContext(\n",
        "    airlines=airlines,\n",
        "    airports=airports,\n",
        "    flights=flights,\n",
        "    planes=planes,\n",
        "    weather=weather,\n",
        "    eager_execution=True\n",
        ")\n",
        "\n",
        "print(\"Setup complete! Tables available:\")\n",
        "print(ctx.execute(\"SHOW TABLES\"))"
      ]
    },
    {
      "cell_type": "markdown",
      "metadata": {
        "id": "OJR0_ukNl093"
      },
      "source": [
        "## Exercise 1: Basic Queries\n",
        "\n",
        "### 1.1 Find all unique carriers in the airlines table"
      ]
    },
    {
      "cell_type": "code",
      "execution_count": 4,
      "metadata": {
        "colab": {
          "base_uri": "https://localhost:8080/"
        },
        "id": "XnFYBgZbl094",
        "outputId": "d5985f7f-a0ed-40cb-813d-f90009c664f9"
      },
      "outputs": [
        {
          "output_type": "stream",
          "name": "stdout",
          "text": [
            "shape: (16, 1)\n",
            "┌─────────┐\n",
            "│ carrier │\n",
            "│ ---     │\n",
            "│ str     │\n",
            "╞═════════╡\n",
            "│ 9E      │\n",
            "│ AA      │\n",
            "│ AS      │\n",
            "│ B6      │\n",
            "│ DL      │\n",
            "│ …       │\n",
            "│ UA      │\n",
            "│ US      │\n",
            "│ VX      │\n",
            "│ WN      │\n",
            "│ YV      │\n",
            "└─────────┘\n"
          ]
        }
      ],
      "source": [
        "# Write your SQL query here\n",
        "result = ctx.execute(\"\"\"\n",
        "SELECT DISTINCT carrier\n",
        "FROM airlines\n",
        "ORDER BY carrier\n",
        "\"\"\")\n",
        "\n",
        "print(result)"
      ]
    },
    {
      "cell_type": "markdown",
      "metadata": {
        "id": "0egpBurcl094"
      },
      "source": [
        "### 1.2 Find the top 10 destinations by number of flights"
      ]
    },
    {
      "cell_type": "code",
      "execution_count": 5,
      "metadata": {
        "colab": {
          "base_uri": "https://localhost:8080/"
        },
        "id": "d4Utw7erl094",
        "outputId": "a321f184-8887-4cc0-837e-3aa3c7d196c2"
      },
      "outputs": [
        {
          "output_type": "stream",
          "name": "stdout",
          "text": [
            "shape: (10, 2)\n",
            "┌──────┬─────────┐\n",
            "│ dest ┆ flights │\n",
            "│ ---  ┆ ---     │\n",
            "│ str  ┆ u32     │\n",
            "╞══════╪═════════╡\n",
            "│ ORD  ┆ 17283   │\n",
            "│ ATL  ┆ 17215   │\n",
            "│ LAX  ┆ 16174   │\n",
            "│ BOS  ┆ 15508   │\n",
            "│ MCO  ┆ 14082   │\n",
            "│ CLT  ┆ 14064   │\n",
            "│ SFO  ┆ 13331   │\n",
            "│ FLL  ┆ 12055   │\n",
            "│ MIA  ┆ 11728   │\n",
            "│ DCA  ┆ 9705    │\n",
            "└──────┴─────────┘\n"
          ]
        }
      ],
      "source": [
        "# Write your SQL query here\n",
        "result = ctx.execute(\"\"\"\n",
        "SELECT dest, COUNT(*) AS flights\n",
        "FROM flights\n",
        "GROUP BY dest\n",
        "ORDER BY flights DESC\n",
        "LIMIT 10\n",
        "\"\"\")\n",
        "\n",
        "print(result)"
      ]
    },
    {
      "cell_type": "markdown",
      "metadata": {
        "id": "A8HM0Kg7l094"
      },
      "source": [
        "### 1.3 Find all flights that departed more than 2 hours late (120 minutes)"
      ]
    },
    {
      "cell_type": "code",
      "execution_count": 6,
      "metadata": {
        "colab": {
          "base_uri": "https://localhost:8080/"
        },
        "id": "u7HW0ArKl094",
        "outputId": "5d34f253-1541-412f-af20-4008d8b74031"
      },
      "outputs": [
        {
          "output_type": "stream",
          "name": "stdout",
          "text": [
            "shape: (9_723, 19)\n",
            "┌──────┬───────┬─────┬──────────┬───┬──────────┬──────┬────────┬─────────────────────────┐\n",
            "│ year ┆ month ┆ day ┆ dep_time ┆ … ┆ distance ┆ hour ┆ minute ┆ time_hour               │\n",
            "│ ---  ┆ ---   ┆ --- ┆ ---      ┆   ┆ ---      ┆ ---  ┆ ---    ┆ ---                     │\n",
            "│ i64  ┆ i64   ┆ i64 ┆ i64      ┆   ┆ i64      ┆ i64  ┆ i64    ┆ datetime[μs, UTC]       │\n",
            "╞══════╪═══════╪═════╪══════════╪═══╪══════════╪══════╪════════╪═════════════════════════╡\n",
            "│ 2013 ┆ 1     ┆ 9   ┆ 641      ┆ … ┆ 4983     ┆ 9    ┆ 0      ┆ 2013-01-09 14:00:00 UTC │\n",
            "│ 2013 ┆ 6     ┆ 15  ┆ 1432     ┆ … ┆ 483      ┆ 19   ┆ 35     ┆ 2013-06-15 23:00:00 UTC │\n",
            "│ 2013 ┆ 1     ┆ 10  ┆ 1121     ┆ … ┆ 719      ┆ 16   ┆ 35     ┆ 2013-01-10 21:00:00 UTC │\n",
            "│ 2013 ┆ 9     ┆ 20  ┆ 1139     ┆ … ┆ 2586     ┆ 18   ┆ 45     ┆ 2013-09-20 22:00:00 UTC │\n",
            "│ 2013 ┆ 7     ┆ 22  ┆ 845      ┆ … ┆ 589      ┆ 16   ┆ 0      ┆ 2013-07-22 20:00:00 UTC │\n",
            "│ …    ┆ …     ┆ …   ┆ …        ┆ … ┆ …        ┆ …    ┆ …      ┆ …                       │\n",
            "│ 2013 ┆ 12    ┆ 15  ┆ 1926     ┆ … ┆ 187      ┆ 17   ┆ 25     ┆ 2013-12-15 22:00:00 UTC │\n",
            "│ 2013 ┆ 12    ┆ 17  ┆ 1336     ┆ … ┆ 479      ┆ 11   ┆ 35     ┆ 2013-12-17 16:00:00 UTC │\n",
            "│ 2013 ┆ 12    ┆ 17  ┆ 2101     ┆ … ┆ 719      ┆ 19   ┆ 0      ┆ 2013-12-18 00:00:00 UTC │\n",
            "│ 2013 ┆ 12    ┆ 29  ┆ 2246     ┆ … ┆ 1521     ┆ 20   ┆ 45     ┆ 2013-12-30 01:00:00 UTC │\n",
            "│ 2013 ┆ 12    ┆ 30  ┆ 2254     ┆ … ┆ 820      ┆ 20   ┆ 53     ┆ 2013-12-31 01:00:00 UTC │\n",
            "└──────┴───────┴─────┴──────────┴───┴──────────┴──────┴────────┴─────────────────────────┘\n"
          ]
        }
      ],
      "source": [
        "# Write your SQL query here\n",
        "result = ctx.execute(\"\"\"\n",
        "SELECT *\n",
        "FROM flights\n",
        "WHERE dep_delay > 120\n",
        "ORDER BY dep_delay DESC, year, month, day\n",
        "\"\"\")\n",
        "\n",
        "print(result)"
      ]
    },
    {
      "cell_type": "markdown",
      "metadata": {
        "id": "32zGkTdXl094"
      },
      "source": [
        "## Exercise 2: Aggregation\n",
        "\n",
        "### 2.1 Calculate the average departure delay for each origin airport"
      ]
    },
    {
      "cell_type": "code",
      "execution_count": 7,
      "metadata": {
        "colab": {
          "base_uri": "https://localhost:8080/"
        },
        "id": "TZyVPiyll094",
        "outputId": "e4bdfcb8-9c94-4e5c-d2f6-a8df161ac346"
      },
      "outputs": [
        {
          "output_type": "stream",
          "name": "stdout",
          "text": [
            "shape: (3, 2)\n",
            "┌────────┬───────────────┐\n",
            "│ origin ┆ avg_dep_delay │\n",
            "│ ---    ┆ ---           │\n",
            "│ str    ┆ f64           │\n",
            "╞════════╪═══════════════╡\n",
            "│ EWR    ┆ 15.11         │\n",
            "│ JFK    ┆ 12.11         │\n",
            "│ LGA    ┆ 10.35         │\n",
            "└────────┴───────────────┘\n"
          ]
        }
      ],
      "source": [
        "# Write your SQL query here\n",
        "result = ctx.execute(\"\"\"\n",
        "SELECT origin,\n",
        "       ROUND(AVG(dep_delay), 2) AS avg_dep_delay\n",
        "FROM flights\n",
        "GROUP BY origin\n",
        "ORDER BY avg_dep_delay DESC\n",
        "\"\"\")\n",
        "\n",
        "print(result)"
      ]
    },
    {
      "cell_type": "markdown",
      "metadata": {
        "id": "hYupFz9Bl094"
      },
      "source": [
        "### 2.2 Find the busiest month of the year\n",
        "\n",
        "Count the number of flights per month and find which month has the most flights."
      ]
    },
    {
      "cell_type": "code",
      "execution_count": 8,
      "metadata": {
        "colab": {
          "base_uri": "https://localhost:8080/"
        },
        "id": "glZ7DuRFl094",
        "outputId": "61b5621f-8e4a-4d3b-8c8f-a4a5b410eb9b"
      },
      "outputs": [
        {
          "output_type": "stream",
          "name": "stdout",
          "text": [
            "shape: (1, 2)\n",
            "┌───────┬─────────┐\n",
            "│ month ┆ flights │\n",
            "│ ---   ┆ ---     │\n",
            "│ i64   ┆ u32     │\n",
            "╞═══════╪═════════╡\n",
            "│ 7     ┆ 29425   │\n",
            "└───────┴─────────┘\n"
          ]
        }
      ],
      "source": [
        "result = ctx.execute(\"\"\"\n",
        "SELECT month, COUNT(*) AS flights\n",
        "FROM flights\n",
        "GROUP BY month\n",
        "ORDER BY flights DESC\n",
        "LIMIT 1\n",
        "\"\"\")\n",
        "\n",
        "print(result)"
      ]
    },
    {
      "cell_type": "markdown",
      "metadata": {
        "id": "76iWvbE0l094"
      },
      "source": [
        "### 2.3 Calculate the on-time performance rate for each carrier\n",
        "\n",
        "Consider a flight on-time if the departure delay is <= 15 minutes."
      ]
    },
    {
      "cell_type": "code",
      "execution_count": 11,
      "metadata": {
        "colab": {
          "base_uri": "https://localhost:8080/"
        },
        "id": "M-LQQGidl094",
        "outputId": "060453b0-928e-4879-9407-84883c734e07"
      },
      "outputs": [
        {
          "output_type": "stream",
          "name": "stdout",
          "text": [
            "shape: (16, 5)\n",
            "┌─────────────────────────────┬─────────┬──────────────────┬─────────┬──────────────────┐\n",
            "│ airline                     ┆ carrier ┆ flights_measured ┆ on_time ┆ on_time_rate_pct │\n",
            "│ ---                         ┆ ---     ┆ ---              ┆ ---     ┆ ---              │\n",
            "│ str                         ┆ str     ┆ i32              ┆ i32     ┆ f64              │\n",
            "╞═════════════════════════════╪═════════╪══════════════════╪═════════╪══════════════════╡\n",
            "│ Hawaiian Airlines Inc.      ┆ HA      ┆ 342              ┆ 318     ┆ 92.98            │\n",
            "│ US Airways Inc.             ┆ US      ┆ 19873            ┆ 17453   ┆ 87.82            │\n",
            "│ Alaska Airlines Inc.        ┆ AS      ┆ 712              ┆ 618     ┆ 86.8             │\n",
            "│ American Airlines Inc.      ┆ AA      ┆ 32093            ┆ 26981   ┆ 84.07            │\n",
            "│ Delta Air Lines Inc.        ┆ DL      ┆ 47761            ┆ 39967   ┆ 83.68            │\n",
            "│ …                           ┆ …       ┆ …                ┆ …       ┆ …                │\n",
            "│ AirTran Airways Corporation ┆ FL      ┆ 3187             ┆ 2337    ┆ 73.33            │\n",
            "│ Southwest Airlines Co.      ┆ WN      ┆ 12083            ┆ 8833    ┆ 73.1             │\n",
            "│ Frontier Airlines Inc.      ┆ F9      ┆ 682              ┆ 490     ┆ 71.85            │\n",
            "│ Mesa Airlines Inc.          ┆ YV      ┆ 545              ┆ 389     ┆ 71.38            │\n",
            "│ ExpressJet Airlines Inc.    ┆ EV      ┆ 51356            ┆ 35712   ┆ 69.54            │\n",
            "└─────────────────────────────┴─────────┴──────────────────┴─────────┴──────────────────┘\n"
          ]
        }
      ],
      "source": [
        "result = ctx.execute(\"\"\"\n",
        "SELECT\n",
        "  airline,\n",
        "  carrier,\n",
        "  SUM(has_dep_delay) AS flights_measured,\n",
        "  SUM(is_ontime)     AS on_time,\n",
        "  ROUND(\n",
        "    CASE WHEN SUM(has_dep_delay) = 0\n",
        "         THEN NULL\n",
        "         ELSE 100.0 * SUM(is_ontime) / SUM(has_dep_delay)\n",
        "    END, 2\n",
        "  ) AS on_time_rate_pct\n",
        "FROM (\n",
        "  SELECT\n",
        "    a.name AS airline,\n",
        "    f.carrier,\n",
        "    CASE WHEN f.dep_delay <= 15 THEN 1 ELSE 0 END AS is_ontime,\n",
        "    CASE WHEN f.dep_delay IS NULL THEN 0 ELSE 1 END AS has_dep_delay\n",
        "  FROM flights AS f\n",
        "  JOIN airlines AS a USING (carrier)\n",
        ") AS s\n",
        "GROUP BY airline, carrier\n",
        "ORDER BY on_time_rate_pct DESC\n",
        "\"\"\")\n",
        "\n",
        "print(result)"
      ]
    },
    {
      "cell_type": "markdown",
      "metadata": {
        "id": "qGSK8M0pl094"
      },
      "source": [
        "## Exercise 3: Joins\n",
        "\n",
        "### 3.1 List all flights with their airline names (not just carrier codes)\n",
        "\n",
        "Show the first 20 flights with carrier code, airline name, flight number, origin, and destination."
      ]
    },
    {
      "cell_type": "code",
      "execution_count": 12,
      "metadata": {
        "colab": {
          "base_uri": "https://localhost:8080/"
        },
        "id": "-ifq6Vp9l094",
        "outputId": "025f7ea2-2ca7-4dfb-ebb5-4c8fc0d6936c"
      },
      "outputs": [
        {
          "output_type": "stream",
          "name": "stdout",
          "text": [
            "shape: (20, 5)\n",
            "┌─────────┬────────────────────────┬────────┬────────┬──────┐\n",
            "│ carrier ┆ airline_name           ┆ flight ┆ origin ┆ dest │\n",
            "│ ---     ┆ ---                    ┆ ---    ┆ ---    ┆ ---  │\n",
            "│ str     ┆ str                    ┆ i64    ┆ str    ┆ str  │\n",
            "╞═════════╪════════════════════════╪════════╪════════╪══════╡\n",
            "│ UA      ┆ United Air Lines Inc.  ┆ 1545   ┆ EWR    ┆ IAH  │\n",
            "│ UA      ┆ United Air Lines Inc.  ┆ 1714   ┆ LGA    ┆ IAH  │\n",
            "│ AA      ┆ American Airlines Inc. ┆ 1141   ┆ JFK    ┆ MIA  │\n",
            "│ B6      ┆ JetBlue Airways        ┆ 725    ┆ JFK    ┆ BQN  │\n",
            "│ DL      ┆ Delta Air Lines Inc.   ┆ 461    ┆ LGA    ┆ ATL  │\n",
            "│ …       ┆ …                      ┆ …      ┆ …      ┆ …    │\n",
            "│ UA      ┆ United Air Lines Inc.  ┆ 1187   ┆ EWR    ┆ LAS  │\n",
            "│ B6      ┆ JetBlue Airways        ┆ 1806   ┆ JFK    ┆ BOS  │\n",
            "│ B6      ┆ JetBlue Airways        ┆ 371    ┆ LGA    ┆ FLL  │\n",
            "│ MQ      ┆ Envoy Air              ┆ 4650   ┆ LGA    ┆ ATL  │\n",
            "│ B6      ┆ JetBlue Airways        ┆ 343    ┆ EWR    ┆ PBI  │\n",
            "└─────────┴────────────────────────┴────────┴────────┴──────┘\n"
          ]
        }
      ],
      "source": [
        "# Write your SQL query here\n",
        "result = ctx.execute(\"\"\"\n",
        "SELECT\n",
        "  f.carrier,\n",
        "  a.name AS airline_name,\n",
        "  f.flight,\n",
        "  f.origin,\n",
        "  f.dest\n",
        "FROM flights AS f\n",
        "JOIN airlines AS a USING (carrier)\n",
        "ORDER BY f.year, f.month, f.day, f.dep_time, f.flight\n",
        "LIMIT 20\n",
        "\"\"\")\n",
        "\n",
        "print(result)"
      ]
    },
    {
      "cell_type": "markdown",
      "metadata": {
        "id": "otqbfUlGl094"
      },
      "source": [
        "### 3.2 Find the average age of planes for each carrier\n",
        "\n",
        "Hint: The planes table has a `year` column for manufacture year. Calculate age based on 2013."
      ]
    },
    {
      "cell_type": "code",
      "execution_count": 13,
      "metadata": {
        "colab": {
          "base_uri": "https://localhost:8080/"
        },
        "id": "toVjXLTQl094",
        "outputId": "22488259-eec0-4b84-ca3a-1c12f059b949"
      },
      "outputs": [
        {
          "output_type": "stream",
          "name": "stdout",
          "text": [
            "shape: (16, 3)\n",
            "┌────────────────────────┬─────────┬───────────────┐\n",
            "│ airline                ┆ carrier ┆ avg_plane_age │\n",
            "│ ---                    ┆ ---     ┆ ---           │\n",
            "│ str                    ┆ str     ┆ f64           │\n",
            "╞════════════════════════╪═════════╪═══════════════╡\n",
            "│ Envoy Air              ┆ MQ      ┆ 35.5          │\n",
            "│ American Airlines Inc. ┆ AA      ┆ 25.4          │\n",
            "│ Delta Air Lines Inc.   ┆ DL      ┆ 17.67         │\n",
            "│ United Air Lines Inc.  ┆ UA      ┆ 13.05         │\n",
            "│ Southwest Airlines Co. ┆ WN      ┆ 11.01         │\n",
            "│ …                      ┆ …       ┆ …             │\n",
            "│ JetBlue Airways        ┆ B6      ┆ 6.5           │\n",
            "│ Alaska Airlines Inc.   ┆ AS      ┆ 5.16          │\n",
            "│ Frontier Airlines Inc. ┆ F9      ┆ 5.0           │\n",
            "│ Virgin America         ┆ VX      ┆ 4.29          │\n",
            "│ Hawaiian Airlines Inc. ┆ HA      ┆ 1.23          │\n",
            "└────────────────────────┴─────────┴───────────────┘\n"
          ]
        }
      ],
      "source": [
        "# Write your SQL query here\n",
        "result = ctx.execute(\"\"\"\n",
        "WITH plane_age_per_carrier AS (\n",
        "  SELECT DISTINCT\n",
        "    a.name      AS airline,\n",
        "    f.carrier   AS carrier,\n",
        "    f.tailnum   AS tailnum,\n",
        "    (2013 - p.year) AS age\n",
        "  FROM flights AS f\n",
        "  JOIN planes  AS p USING (tailnum)\n",
        "  JOIN airlines AS a USING (carrier)\n",
        "  WHERE f.tailnum IS NOT NULL\n",
        "    AND p.year   IS NOT NULL\n",
        ")\n",
        "SELECT\n",
        "  airline,\n",
        "  carrier,\n",
        "  ROUND(AVG(age), 2) AS avg_plane_age\n",
        "FROM plane_age_per_carrier\n",
        "GROUP BY airline, carrier\n",
        "ORDER BY avg_plane_age DESC\n",
        "\"\"\")\n",
        "\n",
        "print(result)"
      ]
    },
    {
      "cell_type": "markdown",
      "metadata": {
        "id": "cN4ptoxgl094"
      },
      "source": [
        "### 3.3 Find flights that experienced both departure delays and bad weather\n",
        "\n",
        "Join flights with weather data and find flights where departure delay > 30 minutes and either wind_speed > 20 or precip > 0.1"
      ]
    },
    {
      "cell_type": "code",
      "execution_count": 14,
      "metadata": {
        "colab": {
          "base_uri": "https://localhost:8080/"
        },
        "id": "xUHYGABol095",
        "outputId": "59d8a181-caa0-4ad5-bc6f-06d783935999"
      },
      "outputs": [
        {
          "output_type": "stream",
          "name": "stdout",
          "text": [
            "shape: (4_938, 9)\n",
            "┌──────┬───────┬─────┬──────────┬───┬──────┬───────────┬────────────┬────────┐\n",
            "│ year ┆ month ┆ day ┆ dep_time ┆ … ┆ dest ┆ dep_delay ┆ wind_speed ┆ precip │\n",
            "│ ---  ┆ ---   ┆ --- ┆ ---      ┆   ┆ ---  ┆ ---       ┆ ---        ┆ ---    │\n",
            "│ i64  ┆ i64   ┆ i64 ┆ i64      ┆   ┆ str  ┆ i64       ┆ f64        ┆ f64    │\n",
            "╞══════╪═══════╪═════╪══════════╪═══╪══════╪═══════════╪════════════╪════════╡\n",
            "│ 2013 ┆ 4     ┆ 10  ┆ 1100     ┆ … ┆ TPA  ┆ 960       ┆ 31.07106   ┆ 0.11   │\n",
            "│ 2013 ┆ 12    ┆ 14  ┆ 830      ┆ … ┆ TPA  ┆ 825       ┆ 20.71404   ┆ 0.01   │\n",
            "│ 2013 ┆ 4     ┆ 19  ┆ 617      ┆ … ┆ LAS  ┆ 797       ┆ 25.31716   ┆ 0.0    │\n",
            "│ 2013 ┆ 4     ┆ 19  ┆ 606      ┆ … ┆ IAH  ┆ 761       ┆ 25.31716   ┆ 0.0    │\n",
            "│ 2013 ┆ 4     ┆ 10  ┆ 604      ┆ … ┆ MCO  ┆ 639       ┆ 33.37262   ┆ 0.14   │\n",
            "│ …    ┆ …     ┆ …   ┆ …        ┆ … ┆ …    ┆ …         ┆ …          ┆ …      │\n",
            "│ 2013 ┆ 12    ┆ 6   ┆ 2036     ┆ … ┆ DAY  ┆ 31        ┆ 14.96014   ┆ 0.14   │\n",
            "│ 2013 ┆ 12    ┆ 22  ┆ 731      ┆ … ┆ ORD  ┆ 31        ┆ 24.16638   ┆ 0.0    │\n",
            "│ 2013 ┆ 12    ┆ 29  ┆ 1551     ┆ … ┆ ORD  ┆ 31        ┆ 13.80936   ┆ 0.37   │\n",
            "│ 2013 ┆ 12    ┆ 29  ┆ 1701     ┆ … ┆ IAH  ┆ 31        ┆ 14.96014   ┆ 0.29   │\n",
            "│ 2013 ┆ 12    ┆ 29  ┆ 1740     ┆ … ┆ CLT  ┆ 31        ┆ 20.71404   ┆ 0.04   │\n",
            "└──────┴───────┴─────┴──────────┴───┴──────┴───────────┴────────────┴────────┘\n"
          ]
        }
      ],
      "source": [
        "# First, explore the weather table structure\n",
        "result = ctx.execute(\"\"\"\n",
        "SELECT\n",
        "  f.year, f.month, f.day, f.dep_time,\n",
        "  f.origin, f.dest,\n",
        "  f.dep_delay,\n",
        "  w.wind_speed, w.precip\n",
        "FROM flights AS f\n",
        "JOIN weather AS w\n",
        "  ON f.origin = w.origin\n",
        " AND f.time_hour = w.time_hour\n",
        "WHERE f.dep_delay > 30\n",
        "  AND (w.wind_speed > 20 OR w.precip > 0.1)\n",
        "ORDER BY f.dep_delay DESC, f.year, f.month, f.day\n",
        "\"\"\")\n",
        "\n",
        "print(result)"
      ]
    },
    {
      "cell_type": "markdown",
      "metadata": {
        "id": "CC2l_HPDl095"
      },
      "source": [
        "## Exercise 4: Advanced Queries\n",
        "\n",
        "### 4.1 Find the most popular aircraft types (by number of flights)\n",
        "\n",
        "Join flights with planes to get manufacturer and model information. Show top 10."
      ]
    },
    {
      "cell_type": "code",
      "execution_count": 15,
      "metadata": {
        "colab": {
          "base_uri": "https://localhost:8080/"
        },
        "id": "9-JOgH6Vl095",
        "outputId": "e43107f2-7f21-48e5-95f9-a19112fa63af"
      },
      "outputs": [
        {
          "output_type": "stream",
          "name": "stdout",
          "text": [
            "shape: (10, 3)\n",
            "┌───────────────────────────────┬─────────────────┬─────────┐\n",
            "│ manufacturer                  ┆ model           ┆ flights │\n",
            "│ ---                           ┆ ---             ┆ ---     │\n",
            "│ str                           ┆ str             ┆ u32     │\n",
            "╞═══════════════════════════════╪═════════════════╪═════════╡\n",
            "│ AIRBUS                        ┆ A320-232        ┆ 31278   │\n",
            "│ EMBRAER                       ┆ EMB-145LR       ┆ 28027   │\n",
            "│ EMBRAER                       ┆ ERJ 190-100 IGW ┆ 23716   │\n",
            "│ AIRBUS INDUSTRIE              ┆ A320-232        ┆ 14553   │\n",
            "│ EMBRAER                       ┆ EMB-145XR       ┆ 14051   │\n",
            "│ BOEING                        ┆ 737-824         ┆ 13809   │\n",
            "│ BOMBARDIER INC                ┆ CL-600-2D24     ┆ 11807   │\n",
            "│ BOEING                        ┆ 737-7H4         ┆ 10389   │\n",
            "│ BOEING                        ┆ 757-222         ┆ 9150    │\n",
            "│ MCDONNELL DOUGLAS AIRCRAFT CO ┆ MD-88           ┆ 8932    │\n",
            "└───────────────────────────────┴─────────────────┴─────────┘\n"
          ]
        }
      ],
      "source": [
        "# Write your SQL query here\n",
        "result = ctx.execute(\"\"\"\n",
        "SELECT\n",
        "  p.manufacturer,\n",
        "  p.model,\n",
        "  COUNT(*) AS flights\n",
        "FROM flights AS f\n",
        "JOIN planes  AS p USING (tailnum)\n",
        "GROUP BY p.manufacturer, p.model\n",
        "ORDER BY flights DESC\n",
        "LIMIT 10\n",
        "\"\"\")\n",
        "\n",
        "print(result)"
      ]
    },
    {
      "cell_type": "markdown",
      "metadata": {
        "id": "2EPqC77Hl095"
      },
      "source": [
        "### 4.2 Analyze route performance\n",
        "\n",
        "Find the top 10 routes (origin-destination pairs) with:\n",
        "- Total number of flights\n",
        "- Average departure delay\n",
        "- Percentage of flights delayed more than 30 minutes\n",
        "\n",
        "Include airport names, not just codes."
      ]
    },
    {
      "cell_type": "code",
      "execution_count": 19,
      "metadata": {
        "colab": {
          "base_uri": "https://localhost:8080/"
        },
        "id": "wYNHY_kvl095",
        "outputId": "576173b4-f8d1-49b6-f458-51c4048966b1"
      },
      "outputs": [
        {
          "output_type": "stream",
          "name": "stdout",
          "text": [
            "shape: (10, 7)\n",
            "┌────────┬────────────────┬──────┬────────────────┬───────────────┬───────────────┬────────────────┐\n",
            "│ origin ┆ origin_name    ┆ dest ┆ dest_name      ┆ total_flights ┆ avg_dep_delay ┆ pct_delayed_gt │\n",
            "│ ---    ┆ ---            ┆ ---  ┆ ---            ┆ ---           ┆ ---           ┆ _30            │\n",
            "│ str    ┆ str            ┆ str  ┆ str            ┆ u32           ┆ f64           ┆ ---            │\n",
            "│        ┆                ┆      ┆                ┆               ┆               ┆ f64            │\n",
            "╞════════╪════════════════╪══════╪════════════════╪═══════════════╪═══════════════╪════════════════╡\n",
            "│ JFK    ┆ John F Kennedy ┆ LAX  ┆ Los Angeles    ┆ 11262         ┆ 8.52          ┆ 9.83           │\n",
            "│        ┆ Intl           ┆      ┆ Intl           ┆               ┆               ┆                │\n",
            "│ LGA    ┆ La Guardia     ┆ ATL  ┆ Hartsfield     ┆ 10263         ┆ 11.45         ┆ 12.25          │\n",
            "│        ┆                ┆      ┆ Jackson        ┆               ┆               ┆                │\n",
            "│        ┆                ┆      ┆ Atlanta Int…   ┆               ┆               ┆                │\n",
            "│ LGA    ┆ La Guardia     ┆ ORD  ┆ Chicago Ohare  ┆ 8857          ┆ 10.74         ┆ 13.35          │\n",
            "│        ┆                ┆      ┆ Intl           ┆               ┆               ┆                │\n",
            "│ JFK    ┆ John F Kennedy ┆ SFO  ┆ San Francisco  ┆ 8204          ┆ 11.95         ┆ 12.12          │\n",
            "│        ┆ Intl           ┆      ┆ Intl           ┆               ┆               ┆                │\n",
            "│ LGA    ┆ La Guardia     ┆ CLT  ┆ Charlotte      ┆ 6168          ┆ 8.97          ┆ 11.95          │\n",
            "│        ┆                ┆      ┆ Douglas Intl   ┆               ┆               ┆                │\n",
            "│ EWR    ┆ Newark Liberty ┆ ORD  ┆ Chicago Ohare  ┆ 6100          ┆ 14.64         ┆ 16.0           │\n",
            "│        ┆ Intl           ┆      ┆ Intl           ┆               ┆               ┆                │\n",
            "│ JFK    ┆ John F Kennedy ┆ BOS  ┆ General Edward ┆ 5898          ┆ 11.69         ┆ 13.77          │\n",
            "│        ┆ Intl           ┆      ┆ Lawrence Logan ┆               ┆               ┆                │\n",
            "│        ┆                ┆      ┆ …              ┆               ┆               ┆                │\n",
            "│ LGA    ┆ La Guardia     ┆ MIA  ┆ Miami Intl     ┆ 5781          ┆ 7.36          ┆ 9.46           │\n",
            "│ JFK    ┆ John F Kennedy ┆ MCO  ┆ Orlando Intl   ┆ 5464          ┆ 10.6          ┆ 12.72          │\n",
            "│        ┆ Intl           ┆      ┆                ┆               ┆               ┆                │\n",
            "│ EWR    ┆ Newark Liberty ┆ BOS  ┆ General Edward ┆ 5327          ┆ 12.55         ┆ 14.91          │\n",
            "│        ┆ Intl           ┆      ┆ Lawrence Logan ┆               ┆               ┆                │\n",
            "│        ┆                ┆      ┆ …              ┆               ┆               ┆                │\n",
            "└────────┴────────────────┴──────┴────────────────┴───────────────┴───────────────┴────────────────┘\n"
          ]
        }
      ],
      "source": [
        "# Write your SQL query here\n",
        "result = ctx.execute(\"\"\"\n",
        "WITH routes AS (\n",
        "  SELECT\n",
        "    f.origin,\n",
        "    f.dest,\n",
        "    f.dep_delay,\n",
        "    ao.name AS origin_name,\n",
        "    ad.name AS dest_name\n",
        "  FROM flights AS f\n",
        "  LEFT JOIN airports AS ao ON f.origin = ao.faa\n",
        "  LEFT JOIN airports AS ad ON f.dest   = ad.faa\n",
        ")\n",
        "SELECT\n",
        "  origin,\n",
        "  origin_name,\n",
        "  dest,\n",
        "  dest_name,\n",
        "  COUNT(*) AS total_flights,\n",
        "  ROUND(AVG(dep_delay), 2) AS avg_dep_delay,\n",
        "  ROUND(100.0 * AVG(CASE WHEN dep_delay > 30 THEN 1 ELSE 0 END), 2) AS pct_delayed_gt_30\n",
        "FROM routes\n",
        "GROUP BY origin, origin_name, dest, dest_name\n",
        "ORDER BY total_flights DESC\n",
        "LIMIT 10\n",
        "\"\"\")\n",
        "\n",
        "print(result)"
      ]
    },
    {
      "cell_type": "markdown",
      "metadata": {
        "id": "kzAHegNtl095"
      },
      "source": [
        "## Bonus: Compare with Polars\n",
        "\n",
        "### Choose one of the queries above and implement it using Polars\n",
        "\n",
        "This will help you understand the relationship between SQL and Polars operations."
      ]
    },
    {
      "cell_type": "code",
      "execution_count": 20,
      "metadata": {
        "colab": {
          "base_uri": "https://localhost:8080/"
        },
        "id": "x58ZIkd6l095",
        "outputId": "ce825912-1084-4e62-dbc1-cf4fc6a61639"
      },
      "outputs": [
        {
          "output_type": "stream",
          "name": "stdout",
          "text": [
            "SQL Result:\n",
            "shape: (3, 2)\n",
            "┌────────┬───────────┐\n",
            "│ origin ┆ avg_delay │\n",
            "│ ---    ┆ ---       │\n",
            "│ str    ┆ f64       │\n",
            "╞════════╪═══════════╡\n",
            "│ EWR    ┆ 15.107954 │\n",
            "│ JFK    ┆ 12.112159 │\n",
            "│ LGA    ┆ 10.346876 │\n",
            "└────────┴───────────┘\n",
            "\n",
            "Polars Result:\n",
            "shape: (3, 2)\n",
            "┌────────┬───────────┐\n",
            "│ origin ┆ avg_delay │\n",
            "│ ---    ┆ ---       │\n",
            "│ str    ┆ f64       │\n",
            "╞════════╪═══════════╡\n",
            "│ EWR    ┆ 15.107954 │\n",
            "│ JFK    ┆ 12.112159 │\n",
            "│ LGA    ┆ 10.346876 │\n",
            "└────────┴───────────┘\n",
            "shape: (10, 7)\n",
            "┌────────┬────────────────┬──────┬────────────────┬───────────────┬───────────────┬────────────────┐\n",
            "│ origin ┆ origin_name    ┆ dest ┆ dest_name      ┆ total_flights ┆ avg_dep_delay ┆ pct_delayed_gt │\n",
            "│ ---    ┆ ---            ┆ ---  ┆ ---            ┆ ---           ┆ ---           ┆ _30            │\n",
            "│ str    ┆ str            ┆ str  ┆ str            ┆ u32           ┆ f64           ┆ ---            │\n",
            "│        ┆                ┆      ┆                ┆               ┆               ┆ f64            │\n",
            "╞════════╪════════════════╪══════╪════════════════╪═══════════════╪═══════════════╪════════════════╡\n",
            "│ JFK    ┆ John F Kennedy ┆ LAX  ┆ Los Angeles    ┆ 11262         ┆ 8.52          ┆ 9.83           │\n",
            "│        ┆ Intl           ┆      ┆ Intl           ┆               ┆               ┆                │\n",
            "│ LGA    ┆ La Guardia     ┆ ATL  ┆ Hartsfield     ┆ 10263         ┆ 11.45         ┆ 12.25          │\n",
            "│        ┆                ┆      ┆ Jackson        ┆               ┆               ┆                │\n",
            "│        ┆                ┆      ┆ Atlanta Int…   ┆               ┆               ┆                │\n",
            "│ LGA    ┆ La Guardia     ┆ ORD  ┆ Chicago Ohare  ┆ 8857          ┆ 10.74         ┆ 13.35          │\n",
            "│        ┆                ┆      ┆ Intl           ┆               ┆               ┆                │\n",
            "│ JFK    ┆ John F Kennedy ┆ SFO  ┆ San Francisco  ┆ 8204          ┆ 11.95         ┆ 12.12          │\n",
            "│        ┆ Intl           ┆      ┆ Intl           ┆               ┆               ┆                │\n",
            "│ LGA    ┆ La Guardia     ┆ CLT  ┆ Charlotte      ┆ 6168          ┆ 8.97          ┆ 11.95          │\n",
            "│        ┆                ┆      ┆ Douglas Intl   ┆               ┆               ┆                │\n",
            "│ EWR    ┆ Newark Liberty ┆ ORD  ┆ Chicago Ohare  ┆ 6100          ┆ 14.64         ┆ 16.0           │\n",
            "│        ┆ Intl           ┆      ┆ Intl           ┆               ┆               ┆                │\n",
            "│ JFK    ┆ John F Kennedy ┆ BOS  ┆ General Edward ┆ 5898          ┆ 11.69         ┆ 13.77          │\n",
            "│        ┆ Intl           ┆      ┆ Lawrence Logan ┆               ┆               ┆                │\n",
            "│        ┆                ┆      ┆ …              ┆               ┆               ┆                │\n",
            "│ LGA    ┆ La Guardia     ┆ MIA  ┆ Miami Intl     ┆ 5781          ┆ 7.36          ┆ 9.46           │\n",
            "│ JFK    ┆ John F Kennedy ┆ MCO  ┆ Orlando Intl   ┆ 5464          ┆ 10.6          ┆ 12.72          │\n",
            "│        ┆ Intl           ┆      ┆                ┆               ┆               ┆                │\n",
            "│ EWR    ┆ Newark Liberty ┆ BOS  ┆ General Edward ┆ 5327          ┆ 12.55         ┆ 14.91          │\n",
            "│        ┆ Intl           ┆      ┆ Lawrence Logan ┆               ┆               ┆                │\n",
            "│        ┆                ┆      ┆ …              ┆               ┆               ┆                │\n",
            "└────────┴────────────────┴──────┴────────────────┴───────────────┴───────────────┴────────────────┘\n"
          ]
        }
      ],
      "source": [
        "# Example: Let's implement Exercise 2.1 (average delay by origin) in Polars\n",
        "\n",
        "# SQL version (for reference)\n",
        "sql_result = ctx.execute(\"\"\"\n",
        "    SELECT\n",
        "        origin,\n",
        "        AVG(dep_delay) as avg_delay\n",
        "    FROM flights\n",
        "    WHERE dep_delay IS NOT NULL\n",
        "    GROUP BY origin\n",
        "    ORDER BY avg_delay DESC\n",
        "\"\"\")\n",
        "\n",
        "# Polars version\n",
        "polars_result = (\n",
        "    flights\n",
        "    .filter(pl.col('dep_delay').is_not_null())\n",
        "    .group_by('origin')\n",
        "    .agg(pl.col('dep_delay').mean().alias('avg_delay'))\n",
        "    .sort('avg_delay', descending=True)\n",
        ")\n",
        "\n",
        "print(\"SQL Result:\")\n",
        "print(sql_result)\n",
        "print(\"\\nPolars Result:\")\n",
        "print(polars_result)\n",
        "\n",
        "# Now implement one of your own queries in Polars below:\n",
        "# Your Polars code here\n",
        "\n",
        "\n",
        "\n",
        "# 1) Prepare airport name lookups for origin and dest\n",
        "ao = airports.select(\n",
        "    pl.col(\"faa\").alias(\"origin\"),\n",
        "    pl.col(\"name\").alias(\"origin_name\")\n",
        ")\n",
        "ad = airports.select(\n",
        "    pl.col(\"faa\").alias(\"dest\"),\n",
        "    pl.col(\"name\").alias(\"dest_name\")\n",
        ")\n",
        "\n",
        "# 2) Join airport names onto flights\n",
        "routes = (\n",
        "    flights\n",
        "    .join(ao, on=\"origin\", how=\"left\")\n",
        "    .join(ad, on=\"dest\",   how=\"left\")\n",
        ")\n",
        "\n",
        "# 3) Aggregate metrics by route\n",
        "polars_result_42 = (\n",
        "    routes\n",
        "    .group_by([\"origin\", \"origin_name\", \"dest\", \"dest_name\"])\n",
        "    .agg([\n",
        "        pl.len().alias(\"total_flights\"),\n",
        "        pl.col(\"dep_delay\").mean().round(2).alias(\"avg_dep_delay\"),\n",
        "        (\n",
        "            pl.when(pl.col(\"dep_delay\") > 30).then(1).otherwise(0)\n",
        "        ).mean().mul(100).round(2).alias(\"pct_delayed_gt_30\")\n",
        "    ])\n",
        "    .sort(\"total_flights\", descending=True)\n",
        "    .head(10)\n",
        ")\n",
        "\n",
        "print(polars_result_42)"
      ]
    }
  ],
  "metadata": {
    "kernelspec": {
      "display_name": "Python 3",
      "language": "python",
      "name": "python3"
    },
    "language_info": {
      "codemirror_mode": {
        "name": "ipython",
        "version": 3
      },
      "file_extension": ".py",
      "mimetype": "text/x-python",
      "name": "python",
      "nbconvert_exporter": "python",
      "pygments_lexer": "ipython3",
      "version": "3.8.0"
    },
    "colab": {
      "provenance": []
    }
  },
  "nbformat": 4,
  "nbformat_minor": 0
}